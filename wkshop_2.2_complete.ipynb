{
 "cells": [
  {
   "cell_type": "markdown",
   "metadata": {},
   "source": [
    "## Exercise 12: Identifying top countries\n",
    "\n",
    "Using your solution to **Exercise 9**, write a function that returns the top 3 countries by number of users"
   ]
  },
  {
   "cell_type": "code",
   "execution_count": 45,
   "metadata": {},
   "outputs": [
    {
     "name": "stdout",
     "output_type": "stream",
     "text": [
      "[('US', 3), ('UK', 1), ('IT', 2)]\n"
     ]
    }
   ],
   "source": [
    "# exercise 12\n",
    "userid_COUNTRYID=[\"gyhwefy7832ryyg-US\", \"iu7ytf87gyuwef-CA\", \"98yfyg82t3r-US\", \"iuhsdf897y3righsfe-US\", \"iushdf98h23ryg-IT\", \"iuhdf9h32ryu9gf-IT\", \"IUufgh98y34-FR\", \"98yfdiuhdfbviuh8-UK\"]\n",
    "count = {}\n",
    "\n",
    "for x in userid_COUNTRYID:\n",
    "    if not x[-2:] in count:\n",
    "        count[x[-2:]] = 1\n",
    "    else:\n",
    "        count[x[-2:]] +=1\n",
    "\n",
    "max3=sorted(zip(count.keys(), count.values()), reverse=True)[:3]\n",
    "\n",
    "\n",
    "print(max3)"
   ]
  },
  {
   "cell_type": "markdown",
   "metadata": {},
   "source": [
    "## Exercise 13: Century\n",
    "\n",
    "Write a function that takes a year and returns its corresponding century.\n",
    "\n",
    "### Examples\n",
    "\n",
    "```\n",
    "century_from_year(2005) ➞ 21\n",
    "\n",
    "century_from_year(1850) ➞ 19\n",
    "\n",
    "century_from_year(-332) ➞ -4\n",
    "\n",
    "century_from_year(55) ➞ 1\n",
    "\n",
    "century_from_year(-65) ➞ -1\n",
    "```"
   ]
  },
  {
   "cell_type": "code",
   "execution_count": 53,
   "metadata": {},
   "outputs": [
    {
     "data": {
      "text/plain": [
       "'century_from_year (-65) ➞ -1'"
      ]
     },
     "execution_count": 53,
     "metadata": {},
     "output_type": "execute_result"
    }
   ],
   "source": [
    "# exercise 13\n",
    "def century_from_year(year):\n",
    "    if year > 0:\n",
    "        b=year // 100 + 1\n",
    "        return f\"century_from_year ({year}) ➞ {b}\"\n",
    "    elif year < 0:\n",
    "        c=year // 100 -0\n",
    "        return f\"century_from_year ({year}) ➞ {c}\"\n",
    "    else:\n",
    "        return 1\n",
    "    \n",
    "        \n",
    "\n",
    "        \n",
    "century_from_year(-65)\n"
   ]
  },
  {
   "cell_type": "markdown",
   "metadata": {},
   "source": [
    "## Exercise 14: Factorial\n",
    "\n",
    "Write a function that computes the factorial of a given number. In math the factorial of a non negative integer number is the product of itself with all integers less than itself starting from 1. \n",
    "\n",
    "Ex. \n",
    "\n",
    "$$4! = 4*3*2*1$$\n",
    "$$4! = 24$$\n",
    "\n",
    "\n",
    "```\n",
    "factorial(4) --> 24\n",
    "```"
   ]
  },
  {
   "cell_type": "code",
   "execution_count": 38,
   "metadata": {},
   "outputs": [
    {
     "data": {
      "text/plain": [
       "'factorial 4 --> 24'"
      ]
     },
     "execution_count": 38,
     "metadata": {},
     "output_type": "execute_result"
    }
   ],
   "source": [
    "# exercise 14\n",
    "\n",
    "def factorial(b):\n",
    "    c = 1\n",
    "    for i in range(1, b +1):\n",
    "        if i > 1:\n",
    "            c= c*i\n",
    "    return f\"factorial {b} --> {c}\"\n",
    "\n",
    "factorial(4)"
   ]
  },
  {
   "cell_type": "markdown",
   "metadata": {},
   "source": [
    "## Exercise 15: Combinatrics\n",
    "\n",
    "The binomial coefficient is an important function in combinatrics. The function is written as:\n",
    "\n",
    "$$ \\binom{n}{k} = \\frac{n!}{k!(n-k)!}  $$\n",
    "\n",
    "Define a function for the binomial coefficient in Python, making sure that n is greater than or equal to k. \n",
    "\n",
    "**Hint:** Use the factorial function that you defined in the previous exercise.\n",
    "\n",
    "```\n",
    "NChooseK(5,2) = 10\n",
    "```"
   ]
  },
  {
   "cell_type": "code",
   "execution_count": 41,
   "metadata": {},
   "outputs": [
    {
     "data": {
      "text/plain": [
       "10.0"
      ]
     },
     "execution_count": 41,
     "metadata": {},
     "output_type": "execute_result"
    }
   ],
   "source": [
    "# exercise 15\n",
    "def factorial(b):\n",
    "    c = 1\n",
    "    for i in range(1, b +1):\n",
    "        if i > 1:\n",
    "            c= c*i\n",
    "    return c\n",
    "\n",
    "def binomial_coefficient(n,k):\n",
    "    f= (factorial(n)) / (factorial(k) * factorial(n-k))\n",
    "    return f\n",
    "\n",
    "binomial_coefficient(5,2)"
   ]
  },
  {
   "cell_type": "code",
   "execution_count": null,
   "metadata": {},
   "outputs": [],
   "source": []
  }
 ],
 "metadata": {
  "file_extension": ".py",
  "kernelspec": {
   "display_name": "Python 3",
   "language": "python",
   "name": "python3"
  },
  "language_info": {
   "codemirror_mode": {
    "name": "ipython",
    "version": 3
   },
   "file_extension": ".py",
   "mimetype": "text/x-python",
   "name": "python",
   "nbconvert_exporter": "python",
   "pygments_lexer": "ipython3",
   "version": "3.8.8"
  },
  "metadata": {
   "interpreter": {
    "hash": "63fd5069d213b44bf678585dea6b12cceca9941eaf7f819626cde1f2670de90d"
   }
  },
  "mimetype": "text/x-python",
  "name": "python",
  "npconvert_exporter": "python",
  "pygments_lexer": "ipython3",
  "version": 3
 },
 "nbformat": 4,
 "nbformat_minor": 2
}
